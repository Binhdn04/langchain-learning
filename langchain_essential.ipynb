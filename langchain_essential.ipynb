{
 "cells": [
  {
   "cell_type": "code",
   "execution_count": 1,
   "id": "6c8c21b3",
   "metadata": {},
   "outputs": [],
   "source": [
    "import os"
   ]
  },
  {
   "cell_type": "code",
   "execution_count": 2,
   "id": "30e33b61",
   "metadata": {},
   "outputs": [],
   "source": [
    "from dotenv import load_dotenv"
   ]
  },
  {
   "cell_type": "code",
   "execution_count": 3,
   "id": "69e0537c",
   "metadata": {},
   "outputs": [
    {
     "data": {
      "text/plain": [
       "True"
      ]
     },
     "execution_count": 3,
     "metadata": {},
     "output_type": "execute_result"
    }
   ],
   "source": [
    "load_dotenv()"
   ]
  },
  {
   "cell_type": "code",
   "execution_count": 4,
   "id": "0751a13f",
   "metadata": {},
   "outputs": [],
   "source": [
    "GOOGLE_API_KEY=os.getenv(\"GOOGLE_API_KEY\")\n",
    "LANGCHAIN_TRACING_V2=os.getenv(\"LANGCHAIN_TRACING_V2\")\n",
    "LANGCHAIN_API_KEY=os.getenv(\"LANGCHAIN_API_KEY\")\n",
    "\n",
    "os.environ[\"LANGCHAIN_TRACING_V2\"]=LANGCHAIN_TRACING_V2\n",
    "os.environ[\"LANGCHAIN_API_KEY\"]=LANGCHAIN_API_KEY\n",
    "os.environ[\"GOOGLE_API_KEY\"]=GOOGLE_API_KEY"
   ]
  },
  {
   "cell_type": "markdown",
   "id": "605827e6",
   "metadata": {},
   "source": [
    "load model"
   ]
  },
  {
   "cell_type": "code",
   "execution_count": 5,
   "id": "50717ee8",
   "metadata": {},
   "outputs": [],
   "source": [
    "from langchain_core.messages import HumanMessage, SystemMessage\n"
   ]
  },
  {
   "cell_type": "code",
   "execution_count": 6,
   "id": "8d8cec0d",
   "metadata": {},
   "outputs": [],
   "source": [
    "from langchain_google_genai import ChatGoogleGenerativeAI"
   ]
  },
  {
   "cell_type": "code",
   "execution_count": 7,
   "id": "86e46b41",
   "metadata": {},
   "outputs": [],
   "source": [
    "#model = ChatGoogleGenerativeAI(model=\"gemini-pro\", convert_system_message_to_human=True)\n",
    "model = ChatGoogleGenerativeAI(model=\"gemini-2.5-flash\")"
   ]
  },
  {
   "cell_type": "code",
   "execution_count": 8,
   "id": "1cb638c2",
   "metadata": {},
   "outputs": [],
   "source": [
    "message = [SystemMessage(content=\"Nice to meet you, Binh\"), HumanMessage(content=\"Hi, how are you\") ]"
   ]
  },
  {
   "cell_type": "code",
   "execution_count": 9,
   "id": "235b9fb1",
   "metadata": {},
   "outputs": [
    {
     "name": "stderr",
     "output_type": "stream",
     "text": [
      "Failed to multipart ingest runs: langsmith.utils.LangSmithError: Failed to POST https://api.smith.langchain.com/runs/multipart in LangSmith API. HTTPError('403 Client Error: Forbidden for url: https://api.smith.langchain.com/runs/multipart', '{\"error\":\"Forbidden\"}\\n')\n"
     ]
    },
    {
     "data": {
      "text/plain": [
       "AIMessage(content=\"I'm doing great, thank you for asking! I'm ready to assist you. How can I help you today?\", additional_kwargs={}, response_metadata={'prompt_feedback': {'block_reason': 0, 'safety_ratings': []}, 'finish_reason': 'STOP', 'model_name': 'gemini-2.5-flash', 'safety_ratings': []}, id='run--805a49c7-197e-4d96-a98e-43e2c61d432b-0', usage_metadata={'input_tokens': 13, 'output_tokens': 151, 'total_tokens': 164, 'input_token_details': {'cache_read': 0}, 'output_token_details': {'reasoning': 125}})"
      ]
     },
     "execution_count": 9,
     "metadata": {},
     "output_type": "execute_result"
    },
    {
     "name": "stderr",
     "output_type": "stream",
     "text": [
      "Failed to send compressed multipart ingest: langsmith.utils.LangSmithError: Failed to POST https://api.smith.langchain.com/runs/multipart in LangSmith API. HTTPError('403 Client Error: Forbidden for url: https://api.smith.langchain.com/runs/multipart', '{\"error\":\"Forbidden\"}\\n')\n",
      "Failed to send compressed multipart ingest: langsmith.utils.LangSmithError: Failed to POST https://api.smith.langchain.com/runs/multipart in LangSmith API. HTTPError('403 Client Error: Forbidden for url: https://api.smith.langchain.com/runs/multipart', '{\"error\":\"Forbidden\"}\\n')\n",
      "Failed to send compressed multipart ingest: langsmith.utils.LangSmithError: Failed to POST https://api.smith.langchain.com/runs/multipart in LangSmith API. HTTPError('403 Client Error: Forbidden for url: https://api.smith.langchain.com/runs/multipart', '{\"error\":\"Forbidden\"}\\n')\n",
      "Failed to send compressed multipart ingest: langsmith.utils.LangSmithError: Failed to POST https://api.smith.langchain.com/runs/multipart in LangSmith API. HTTPError('403 Client Error: Forbidden for url: https://api.smith.langchain.com/runs/multipart', '{\"error\":\"Forbidden\"}\\n')\n",
      "Failed to send compressed multipart ingest: langsmith.utils.LangSmithError: Failed to POST https://api.smith.langchain.com/runs/multipart in LangSmith API. HTTPError('403 Client Error: Forbidden for url: https://api.smith.langchain.com/runs/multipart', '{\"error\":\"Forbidden\"}\\n')\n",
      "Failed to send compressed multipart ingest: langsmith.utils.LangSmithError: Failed to POST https://api.smith.langchain.com/runs/multipart in LangSmith API. HTTPError('403 Client Error: Forbidden for url: https://api.smith.langchain.com/runs/multipart', '{\"error\":\"Forbidden\"}\\n')\n",
      "Failed to send compressed multipart ingest: langsmith.utils.LangSmithError: Failed to POST https://api.smith.langchain.com/runs/multipart in LangSmith API. HTTPError('403 Client Error: Forbidden for url: https://api.smith.langchain.com/runs/multipart', '{\"error\":\"Forbidden\"}\\n')\n"
     ]
    }
   ],
   "source": [
    "model.invoke(message)"
   ]
  },
  {
   "cell_type": "code",
   "execution_count": 26,
   "id": "1635f1f5",
   "metadata": {},
   "outputs": [],
   "source": [
    "from langchain_core.output_parsers import StrOutputParser"
   ]
  },
  {
   "cell_type": "code",
   "execution_count": 28,
   "id": "f6873533",
   "metadata": {},
   "outputs": [],
   "source": [
    "parser = StrOutputParser()"
   ]
  },
  {
   "cell_type": "code",
   "execution_count": 27,
   "id": "76ba4da1",
   "metadata": {},
   "outputs": [],
   "source": [
    "respone = model.invoke(message)"
   ]
  },
  {
   "cell_type": "code",
   "execution_count": 29,
   "id": "11c104a3",
   "metadata": {},
   "outputs": [
    {
     "data": {
      "text/plain": [
       "\"I'm doing well, thank you for asking!\\n\\nHow about you?\""
      ]
     },
     "execution_count": 29,
     "metadata": {},
     "output_type": "execute_result"
    }
   ],
   "source": [
    "parser.invoke(respone)"
   ]
  },
  {
   "cell_type": "markdown",
   "id": "500bd062",
   "metadata": {},
   "source": [
    "chaining with LCEL"
   ]
  },
  {
   "cell_type": "code",
   "execution_count": 30,
   "id": "58d81074",
   "metadata": {},
   "outputs": [
    {
     "data": {
      "text/plain": [
       "\"I'm doing great, thank you for asking!\\n\\nHow can I help you today?\""
      ]
     },
     "execution_count": 30,
     "metadata": {},
     "output_type": "execute_result"
    }
   ],
   "source": [
    "chain = model | parser\n",
    "chain.invoke(message)"
   ]
  },
  {
   "cell_type": "markdown",
   "id": "2b6d0c94",
   "metadata": {},
   "source": [
    "Prompting"
   ]
  },
  {
   "cell_type": "code",
   "execution_count": 31,
   "id": "1e27e861",
   "metadata": {},
   "outputs": [],
   "source": [
    "from langchain_core.prompts import ChatPromptTemplate"
   ]
  },
  {
   "cell_type": "code",
   "execution_count": 32,
   "id": "4cda1de4",
   "metadata": {},
   "outputs": [],
   "source": [
    "system=\"translate the following into {language}\""
   ]
  },
  {
   "cell_type": "code",
   "execution_count": 35,
   "id": "0fe25c91",
   "metadata": {},
   "outputs": [],
   "source": [
    "prompt_template = ChatPromptTemplate.from_messages(\n",
    "    [(\"system\", \"translate the following into {language}\"),\n",
    "     (\"user\", \"{text}\")]\n",
    ")"
   ]
  },
  {
   "cell_type": "code",
   "execution_count": 36,
   "id": "c8d3d0ae",
   "metadata": {},
   "outputs": [],
   "source": [
    "prompt = prompt_template.invoke({\"language\":\"english\", \"text\":\"Tôi đang học LangChain\"})"
   ]
  },
  {
   "cell_type": "code",
   "execution_count": 37,
   "id": "d058c7b5",
   "metadata": {},
   "outputs": [
    {
     "data": {
      "text/plain": [
       "'I am learning LangChain.'"
      ]
     },
     "execution_count": 37,
     "metadata": {},
     "output_type": "execute_result"
    }
   ],
   "source": [
    "parser.invoke(model.invoke(prompt))"
   ]
  },
  {
   "cell_type": "markdown",
   "id": "438aefd2",
   "metadata": {},
   "source": [
    "Agents"
   ]
  },
  {
   "cell_type": "code",
   "execution_count": 19,
   "id": "cdfa12a1",
   "metadata": {},
   "outputs": [],
   "source": [
    "from langgraph.checkpoint.memory import MemorySaver\n",
    "from langgraph.prebuilt import create_react_agent\n",
    "#from langchain_tavily import TavilySearch\n",
    "from langchain_core.messages import HumanMessage"
   ]
  },
  {
   "cell_type": "code",
   "execution_count": 11,
   "id": "c26138ec",
   "metadata": {},
   "outputs": [],
   "source": [
    "memory = MemorySaver()"
   ]
  },
  {
   "cell_type": "code",
   "execution_count": null,
   "id": "e61873ed",
   "metadata": {},
   "outputs": [
    {
     "name": "stderr",
     "output_type": "stream",
     "text": [
      "C:\\Users\\LENOVO\\AppData\\Local\\Temp\\ipykernel_23424\\1483482442.py:1: LangChainDeprecationWarning: The class `TavilySearchResults` was deprecated in LangChain 0.3.25 and will be removed in 1.0. An updated version of the class exists in the :class:`~langchain-tavily package and should be used instead. To use it run `pip install -U :class:`~langchain-tavily` and import as `from :class:`~langchain_tavily import TavilySearch``.\n",
      "  search=TavilySearchResults( max_results=2)\n"
     ]
    }
   ],
   "source": [
    "search=TavilySearch( max_results=2)"
   ]
  },
  {
   "cell_type": "code",
   "execution_count": 13,
   "id": "692bde43",
   "metadata": {},
   "outputs": [],
   "source": [
    "tools=[search]"
   ]
  },
  {
   "cell_type": "code",
   "execution_count": 14,
   "id": "503a0443",
   "metadata": {},
   "outputs": [],
   "source": [
    "agent_executor=create_react_agent(model,tools,checkpointer=memory)"
   ]
  },
  {
   "cell_type": "code",
   "execution_count": 15,
   "id": "fd7f113d",
   "metadata": {},
   "outputs": [],
   "source": [
    "config = {\"configurable\": {\"thread_id\": \"abc123\"}}"
   ]
  },
  {
   "cell_type": "code",
   "execution_count": 16,
   "id": "e5e42329",
   "metadata": {},
   "outputs": [
    {
     "name": "stdout",
     "output_type": "stream",
     "text": [
      "{'agent': {'messages': [AIMessage(content=\"Hello Binh! It's nice to meet you. Hanoi is a beautiful city. How can I help you today?\", additional_kwargs={}, response_metadata={'prompt_feedback': {'block_reason': 0, 'safety_ratings': []}, 'finish_reason': 'STOP', 'model_name': 'gemini-2.5-flash', 'safety_ratings': []}, id='run--80346058-5939-4906-b4e1-643ede6149fc-0', usage_metadata={'input_tokens': 84, 'output_tokens': 25, 'total_tokens': 109, 'input_token_details': {'cache_read': 0}})]}}\n",
      "----\n"
     ]
    }
   ],
   "source": [
    "for chunk in agent_executor.stream({\"messages\":[HumanMessage(content=\"hi im Binh! and i live in Hanoi\")]}, config):\n",
    "    print(chunk)\n",
    "    print(\"----\")"
   ]
  },
  {
   "cell_type": "code",
   "execution_count": 17,
   "id": "ee76d8ac",
   "metadata": {},
   "outputs": [
    {
     "name": "stdout",
     "output_type": "stream",
     "text": [
      "{'agent': {'messages': [AIMessage(content='', additional_kwargs={'function_call': {'name': 'tavily_search_results_json', 'arguments': '{\"query\": \"weather in Hanoi\"}'}}, response_metadata={'prompt_feedback': {'block_reason': 0, 'safety_ratings': []}, 'finish_reason': 'STOP', 'model_name': 'gemini-2.5-flash', 'safety_ratings': []}, id='run--27eaa326-b0ac-493c-870b-c4158117d0a5-0', tool_calls=[{'name': 'tavily_search_results_json', 'args': {'query': 'weather in Hanoi'}, 'id': '4d43201f-8de0-4534-9322-2150f93cacf9', 'type': 'tool_call'}], usage_metadata={'input_tokens': 118, 'output_tokens': 79, 'total_tokens': 197, 'input_token_details': {'cache_read': 0}, 'output_token_details': {'reasoning': 56}})]}}\n",
      "----\n",
      "{'tools': {'messages': [ToolMessage(content='[{\"title\": \"Past Weather in Hanoi, Vietnam — Yesterday and Last 2 Weeks\", \"url\": \"https://www.timeanddate.com/weather/vietnam/hanoi/historic\", \"content\": \"| 5:00 am | Image 26: Lots of rain. Mostly cloudy. | 75°F | Lots of rain. Mostly cloudy. | 9 mph | ↑ | 100% | 29.68 \\\\\"Hg | 2 mi |\\\\n| Weather by CustomWeather, © 2025 |\", \"score\": 0.80625874}, {\"title\": \"Hanoi weather in September 2025 - Weather25.com\", \"url\": \"https://www.weather25.com/asia/vietnam/hanoi?page=month&month=September\", \"content\": \"Our weather forecast can give you a great sense of what weather to expect in Hanoi in September 2025.\\\\n\\\\nIf you’re planning to visit Hanoi in the near future, we highly recommend that you review the 14 day weather forecast for Hanoi before you arrive.\\\\n\\\\nTemperatures\\\\n\\\\n89° / 77°\\\\n\\\\nRainy Days\\\\n\\\\n12\\\\n\\\\nSnowy Days\\\\n\\\\n0\\\\n\\\\nDry Days\\\\n\\\\n18\\\\n\\\\nRainfall\\\\n\\\\n8.15\\\\n\\\\nin\\\\n\\\\nSun Hours\\\\n\\\\n10.3\\\\n\\\\nHrs\\\\n\\\\nHistoric average weather for September\\\\n\\\\nSeptember [...] | Month | Temperatures | Rainy Days | Dry Days | Snowy Days | Rainfall | Weather | More details |\\\\n ---  ---  ---  --- |\\\\n| January | 69° / 59° | 3 | 28 | 0 | 1.69 in | Good | Hanoi in January |\\\\n| February | 75° / 62° | 1 | 27 | 0 | 0.79 in | Perfect | Hanoi in February |\\\\n| March | 80° / 68° | 2 | 29 | 0 | 1.57 in | Perfect | Hanoi in March |\\\\n| April | 87° / 71° | 4 | 26 | 0 | 2.95 in | Good | Hanoi in April |\\\\n| May | 93° / 77° | 11 | 20 | 0 | 6.54 in | Bad | Hanoi in May | [...] | Sun | Mon | Tue | Wed | Thu | Fri | Sat |\\\\n ---  ---  --- \\\\n|  | 1  87° /77° | 2  91° /77° | 3  91° /77° | 4  93° /77° | 5  91° /77° | 6  91° /77° |\\\\n| 7  89° /77° | 8  91° /77° | 9  95° /77° | 10  95° /78° | 11  89° /77° | 12  91° /78° | 13  89° /77° |\\\\n| 14  91° /77° | 15  89° /75° | 16  89° /77° | 17  87° /77° | 18  87° /75° | 19  91° /75° | 20  87° /77° |\\\\n| 21  91° /75° | 22  86° /77° | 23  87° /73° | 24  86° /73° | 25  84° /73° | 26  86° /73° | 27  87° /75° |\", \"score\": 0.77548623}]', name='tavily_search_results_json', id='d09b2031-56e4-48d9-b519-7c2ec071d0bc', tool_call_id='4d43201f-8de0-4534-9322-2150f93cacf9', artifact={'query': 'weather in Hanoi', 'follow_up_questions': None, 'answer': None, 'images': [], 'results': [{'url': 'https://www.timeanddate.com/weather/vietnam/hanoi/historic', 'title': 'Past Weather in Hanoi, Vietnam — Yesterday and Last 2 Weeks', 'content': '| 5:00 am | Image 26: Lots of rain. Mostly cloudy. | 75°F | Lots of rain. Mostly cloudy. | 9 mph | ↑ | 100% | 29.68 \"Hg | 2 mi |\\n| Weather by CustomWeather, © 2025 |', 'score': 0.80625874, 'raw_content': None}, {'url': 'https://www.weather25.com/asia/vietnam/hanoi?page=month&month=September', 'title': 'Hanoi weather in September 2025 - Weather25.com', 'content': 'Our weather forecast can give you a great sense of what weather to expect in Hanoi in September 2025.\\n\\nIf you’re planning to visit Hanoi in the near future, we highly recommend that you review the 14 day weather forecast for Hanoi before you arrive.\\n\\nTemperatures\\n\\n89° / 77°\\n\\nRainy Days\\n\\n12\\n\\nSnowy Days\\n\\n0\\n\\nDry Days\\n\\n18\\n\\nRainfall\\n\\n8.15\\n\\nin\\n\\nSun Hours\\n\\n10.3\\n\\nHrs\\n\\nHistoric average weather for September\\n\\nSeptember [...] | Month | Temperatures | Rainy Days | Dry Days | Snowy Days | Rainfall | Weather | More details |\\n ---  ---  ---  --- |\\n| January | 69° / 59° | 3 | 28 | 0 | 1.69 in | Good | Hanoi in January |\\n| February | 75° / 62° | 1 | 27 | 0 | 0.79 in | Perfect | Hanoi in February |\\n| March | 80° / 68° | 2 | 29 | 0 | 1.57 in | Perfect | Hanoi in March |\\n| April | 87° / 71° | 4 | 26 | 0 | 2.95 in | Good | Hanoi in April |\\n| May | 93° / 77° | 11 | 20 | 0 | 6.54 in | Bad | Hanoi in May | [...] | Sun | Mon | Tue | Wed | Thu | Fri | Sat |\\n ---  ---  --- \\n|  | 1  87° /77° | 2  91° /77° | 3  91° /77° | 4  93° /77° | 5  91° /77° | 6  91° /77° |\\n| 7  89° /77° | 8  91° /77° | 9  95° /77° | 10  95° /78° | 11  89° /77° | 12  91° /78° | 13  89° /77° |\\n| 14  91° /77° | 15  89° /75° | 16  89° /77° | 17  87° /77° | 18  87° /75° | 19  91° /75° | 20  87° /77° |\\n| 21  91° /75° | 22  86° /77° | 23  87° /73° | 24  86° /73° | 25  84° /73° | 26  86° /73° | 27  87° /75° |', 'score': 0.77548623, 'raw_content': None}], 'response_time': 1.87, 'request_id': '3bdf542f-7c2f-4f3f-8836-6f9acc284eda'})]}}\n",
      "----\n",
      "{'agent': {'messages': [AIMessage(content=\"It's currently 75°F in Hanoi with lots of rain and it's mostly cloudy.\", additional_kwargs={}, response_metadata={'prompt_feedback': {'block_reason': 0, 'safety_ratings': []}, 'finish_reason': 'STOP', 'model_name': 'gemini-2.5-flash', 'safety_ratings': []}, id='run--f5c52a8e-ff0d-44d0-98bc-0ac9e3eceab9-0', usage_metadata={'input_tokens': 1096, 'output_tokens': 97, 'total_tokens': 1193, 'input_token_details': {'cache_read': 0}, 'output_token_details': {'reasoning': 75}})]}}\n",
      "----\n"
     ]
    }
   ],
   "source": [
    "for chunk in agent_executor.stream({\"messages\": [HumanMessage(content=\"whats the weather where I live?\")]}, config):\n",
    "    print(chunk)\n",
    "    print(\"----\")"
   ]
  }
 ],
 "metadata": {
  "kernelspec": {
   "display_name": "Python 3",
   "language": "python",
   "name": "python3"
  },
  "language_info": {
   "codemirror_mode": {
    "name": "ipython",
    "version": 3
   },
   "file_extension": ".py",
   "mimetype": "text/x-python",
   "name": "python",
   "nbconvert_exporter": "python",
   "pygments_lexer": "ipython3",
   "version": "3.10.18"
  }
 },
 "nbformat": 4,
 "nbformat_minor": 5
}
